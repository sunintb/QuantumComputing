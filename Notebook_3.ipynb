{
 "cells": [
  {
   "cell_type": "markdown",
   "id": "d2497f68-e565-4dec-8d5e-ec337e37128e",
   "metadata": {},
   "source": [
    "Notebook 3\n",
    "Sunint Bindra"
   ]
  },
  {
   "cell_type": "code",
   "execution_count": 1,
   "id": "863aa459-349d-43be-b305-f1ca757b4858",
   "metadata": {},
   "outputs": [
    {
     "name": "stdout",
     "output_type": "stream",
     "text": [
      "Libraries imported successfully!\n"
     ]
    }
   ],
   "source": [
    "# Importing standard Qiskit libraries\n",
    "from qiskit import QuantumCircuit  \n",
    "from qiskit import Aer, execute, IBMQ \n",
    "from qiskit.visualization import *\n",
    "\n",
    "\n",
    "import warnings  \n",
    "warnings.filterwarnings(\"ignore\")\n",
    "\n",
    "provider = IBMQ.load_account()\n",
    "print(\"Libraries imported successfully!\")"
   ]
  },
  {
   "cell_type": "code",
   "execution_count": 2,
   "id": "8960aede-1965-4905-92ba-4ee36f22855f",
   "metadata": {},
   "outputs": [
    {
     "data": {
      "image/png": "[encoded data removed]",
      "text/plain": [
       "<Figure size 193.726x144.48 with 1 Axes>"
      ]
     },
     "execution_count": 2,
     "metadata": {},
     "output_type": "execute_result"
    }
   ],
   "source": [
    "qc = QuantumCircuit(1,1)\n",
    "qc.h(0)\n",
    "qc.measure(0,0)\n",
    "qc.draw()"
   ]
  },
  {
   "cell_type": "code",
   "execution_count": 10,
   "id": "7cde8cc7-c6a9-4ecd-adc6-7247efefd7c2",
   "metadata": {},
   "outputs": [
    {
     "name": "stdout",
     "output_type": "stream",
     "text": [
      "{'0': 1}\n"
     ]
    }
   ],
   "source": [
    "# Simulating circuit using QASM \n",
    "backend = Aer.get_backend('qasm_simulator') \n",
    "job = execute(qc,backend, shots = 1) \n",
    "result = job.result()\n",
    "counts = result.get_counts()\n",
    "print(counts)"
   ]
  },
  {
   "cell_type": "code",
   "execution_count": 12,
   "id": "1562af52-fc2e-4f05-b153-b4e8db58476f",
   "metadata": {},
   "outputs": [
    {
     "name": "stdout",
     "output_type": "stream",
     "text": [
      "The random bit was 0\n"
     ]
    }
   ],
   "source": [
    "# Returns outcome from random bit\n",
    "if '0' in counts:\n",
    "    print(\"The random bit was 0\")\n",
    "else:\n",
    "    print(\"The random bit was 1\")"
   ]
  },
  {
   "cell_type": "code",
   "execution_count": null,
   "id": "371da805-5d08-44c2-9b8e-24510dba4aa0",
   "metadata": {},
   "outputs": [],
   "source": [
    "#  # Simulating circuit using IBM q_armonk\n",
    "backend = provider.get_backend('ibmq_armonk') \n",
    "job = execute(qc, backend, shots = 1) \n",
    "result = job.result() \n",
    "counts = result.get_counts() "
   ]
  }
 ],
 "metadata": {
  "kernelspec": {
   "display_name": "Qiskit v0.34.2 (ipykernel)",
   "language": "python",
   "name": "python3"
  },
  "language_info": {
   "codemirror_mode": {
    "name": "ipython",
    "version": 3
   },
   "file_extension": ".py",
   "mimetype": "text/x-python",
   "name": "python",
   "nbconvert_exporter": "python",
   "pygments_lexer": "ipython3",
   "version": "3.8.12"
  },
  "widgets": {
   "application/vnd.jupyter.widget-state+json": {
    "state": {},
    "version_major": 2,
    "version_minor": 0
   }
  }
 },
 "nbformat": 4,
 "nbformat_minor": 5
}
