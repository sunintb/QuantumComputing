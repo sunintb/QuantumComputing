{
 "cells": [
  {
   "cell_type": "markdown",
   "id": "2103b82d-b042-4bd8-97d4-497c46a8e03c",
   "metadata": {},
   "source": [
    "Notebook 4\n",
    "Sunint Bindra"
   ]
  },
  {
   "cell_type": "code",
   "execution_count": 1,
   "id": "6e68955c-e3f4-4698-966e-ae3292517356",
   "metadata": {},
   "outputs": [],
   "source": [
    "# List of candy\n",
    "favorite_candy = [\"peanut butter cups\", \"M&Ms\", \"kitkats\",\"skittles\"]"
   ]
  },
  {
   "cell_type": "code",
   "execution_count": 2,
   "id": "160551cd-559b-44a0-aaaa-a95131062ed8",
   "metadata": {},
   "outputs": [],
   "source": [
    "#Rating of candy list\n",
    "candy_rating = [3, 4, 4, 5]"
   ]
  },
  {
   "cell_type": "code",
   "execution_count": 4,
   "id": "4ecbda85-d1f3-4e67-b11b-30c1243c6bea",
   "metadata": {},
   "outputs": [
    {
     "name": "stdout",
     "output_type": "stream",
     "text": [
      "[3, 4, 4, 5]\n",
      "['peanut butter cups', 'M&Ms', 'kitkats', 'skittles']\n"
     ]
    }
   ],
   "source": [
    "# Print lists\n",
    "print(candy_rating)\n",
    "print(favorite_candy)"
   ]
  },
  {
   "cell_type": "code",
   "execution_count": 6,
   "id": "da5a1768-7e65-4712-9a8c-101002dd39d7",
   "metadata": {},
   "outputs": [
    {
     "name": "stdout",
     "output_type": "stream",
     "text": [
      "peanut butter cups\n",
      "3\n"
     ]
    }
   ],
   "source": [
    "# Print candy and candy rating from list\n",
    "print(favorite_candy[0])\n",
    "print(candy_rating[0])"
   ]
  },
  {
   "cell_type": "code",
   "execution_count": 8,
   "id": "ba72eb59-08f0-4eb0-b5a1-cae76a28af4c",
   "metadata": {},
   "outputs": [
    {
     "name": "stdout",
     "output_type": "stream",
     "text": [
      "['peanut butter cups', 'M&Ms', 'kitkats', 'skittles', 'Lindt chocolate', 'Lindt chocolate']\n",
      "[3, 4, 4, 5, '5', 5]\n"
     ]
    }
   ],
   "source": [
    "# Adding candy to list\n",
    "favorite_candy.append(\"Lindt chocolate\")\n",
    "candy_rating.append(5)\n",
    "print(favorite_candy)\n",
    "print(candy_rating)"
   ]
  },
  {
   "cell_type": "code",
   "execution_count": 9,
   "id": "d66b3c4e-758a-4eb1-a7e7-85eeec0ead59",
   "metadata": {},
   "outputs": [
    {
     "name": "stdout",
     "output_type": "stream",
     "text": [
      "peanut butter cups\n",
      "M&Ms\n",
      "kitkats\n",
      "skittles\n",
      "Lindt chocolate\n",
      "Lindt chocolate\n"
     ]
    }
   ],
   "source": [
    "# Print candy using loop\n",
    "for x in favorite_candy:\n",
    "    print(x)"
   ]
  },
  {
   "cell_type": "code",
   "execution_count": 10,
   "id": "df49ac66-52db-47db-8d07-77d185ce2fed",
   "metadata": {},
   "outputs": [
    {
     "name": "stdout",
     "output_type": "stream",
     "text": [
      "3\n",
      "4\n",
      "4\n",
      "5\n",
      "5\n",
      "5\n"
     ]
    }
   ],
   "source": [
    "# Print ratings using loop\n",
    "for x in candy_rating:\n",
    "    print(x)"
   ]
  },
  {
   "cell_type": "code",
   "execution_count": 11,
   "id": "3139f668-fc35-44c6-a98e-65a321f6a7d3",
   "metadata": {},
   "outputs": [
    {
     "name": "stdout",
     "output_type": "stream",
     "text": [
      "1\n",
      "2\n",
      "3\n",
      "4\n",
      "5\n",
      "6\n",
      "7\n",
      "8\n",
      "9\n",
      "10\n",
      "11\n",
      "12\n",
      "13\n",
      "14\n",
      "15\n",
      "16\n",
      "17\n",
      "18\n",
      "19\n",
      "20\n",
      "21\n",
      "22\n",
      "23\n",
      "24\n",
      "25\n",
      "26\n",
      "27\n",
      "28\n",
      "29\n",
      "30\n",
      "31\n",
      "32\n",
      "33\n",
      "34\n",
      "35\n",
      "36\n",
      "37\n",
      "38\n",
      "39\n",
      "40\n",
      "41\n",
      "42\n",
      "43\n",
      "44\n",
      "45\n",
      "46\n",
      "47\n",
      "48\n",
      "49\n",
      "50\n",
      "51\n",
      "52\n",
      "53\n",
      "54\n",
      "55\n",
      "56\n",
      "57\n",
      "58\n",
      "59\n",
      "60\n",
      "61\n",
      "62\n",
      "63\n",
      "64\n",
      "65\n",
      "66\n",
      "67\n",
      "68\n",
      "69\n",
      "70\n",
      "71\n",
      "72\n",
      "73\n",
      "74\n",
      "75\n",
      "76\n",
      "77\n",
      "78\n",
      "79\n",
      "80\n",
      "81\n",
      "82\n",
      "83\n",
      "84\n",
      "85\n",
      "86\n",
      "87\n",
      "88\n",
      "89\n",
      "90\n",
      "91\n",
      "92\n",
      "93\n",
      "94\n",
      "95\n",
      "96\n",
      "97\n",
      "98\n",
      "99\n",
      "100\n"
     ]
    }
   ],
   "source": [
    "# Range function\n",
    "for numbers in range(1,101):\n",
    "    print(numbers)"
   ]
  },
  {
   "cell_type": "code",
   "execution_count": 12,
   "id": "e9a8ac8f-1361-4f2b-b378-66afdb521214",
   "metadata": {},
   "outputs": [
    {
     "name": "stdout",
     "output_type": "stream",
     "text": [
      "15\n",
      "16\n",
      "17\n",
      "18\n",
      "19\n",
      "20\n",
      "21\n",
      "22\n",
      "23\n",
      "24\n",
      "25\n",
      "26\n",
      "27\n",
      "28\n",
      "29\n"
     ]
    }
   ],
   "source": [
    "# Range function\n",
    "for x in range(15,30):\n",
    "    print(x)"
   ]
  },
  {
   "cell_type": "code",
   "execution_count": 4,
   "id": "1cf995b0-9dfe-48bb-abe2-df938428dc6f",
   "metadata": {},
   "outputs": [
    {
     "name": "stdin",
     "output_type": "stream",
     "text": [
      "How many candies do you want to enter?  3\n",
      "Enter candy name: Almond Joy\n",
      "Enter candy rating: 3\n",
      "Enter candy name: KitKats\n",
      "Enter candy rating: 4\n",
      "Enter candy name: Alpenlibe\n",
      "Enter candy rating: 5\n"
     ]
    },
    {
     "name": "stdout",
     "output_type": "stream",
     "text": [
      "['Almond Joy', 'KitKats', 'Alpenlibe']\n",
      "['3', '4', '5']\n"
     ]
    }
   ],
   "source": [
    "# Creates database of candy and ratings for people based on user inputs\n",
    "number_candies = input(\"How many candies do you want to enter? \")\n",
    "number_candies = int(number_candies)\n",
    "candy_names = []\n",
    "candy_ratings = []\n",
    "for i in range(0,number_candies):\n",
    "    name = input(\"Enter candy name:\" )\n",
    "    rating = input(\"Enter candy rating:\" )\n",
    "    candy_names.append(name)\n",
    "    candy_ratings.append(rating)\n",
    "print(candy_names)\n",
    "print(candy_ratings)"
   ]
  },
  {
   "cell_type": "code",
   "execution_count": null,
   "id": "a6d98abd-ae29-4310-9ac7-218c03b69729",
   "metadata": {},
   "outputs": [],
   "source": []
  }
 ],
 "metadata": {
  "kernelspec": {
   "display_name": "Qiskit v0.34.2 (ipykernel)",
   "language": "python",
   "name": "python3"
  },
  "language_info": {
   "codemirror_mode": {
    "name": "ipython",
    "version": 3
   },
   "file_extension": ".py",
   "mimetype": "text/x-python",
   "name": "python",
   "nbconvert_exporter": "python",
   "pygments_lexer": "ipython3",
   "version": "3.8.12"
  },
  "widgets": {
   "application/vnd.jupyter.widget-state+json": {
    "state": {},
    "version_major": 2,
    "version_minor": 0
   }
  }
 },
 "nbformat": 4,
 "nbformat_minor": 5
}
