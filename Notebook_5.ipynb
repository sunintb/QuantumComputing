{
 "cells": [
  {
   "cell_type": "markdown",
   "id": "d2497f68-e565-4dec-8d5e-ec337e37128e",
   "metadata": {},
   "source": [
    "Notebook 5\n",
    "Sunint Bindra"
   ]
  },
  {
   "cell_type": "code",
   "execution_count": 1,
   "id": "863aa459-349d-43be-b305-f1ca757b4858",
   "metadata": {},
   "outputs": [
    {
     "name": "stdout",
     "output_type": "stream",
     "text": [
      "Libraries imported successfully!\n"
     ]
    }
   ],
   "source": [
    "# Importing standard Qiskit libraries\n",
    "from qiskit import QuantumCircuit  \n",
    "from qiskit import Aer, execute, IBMQ \n",
    "from qiskit.visualization import *\n",
    "\n",
    "\n",
    "import warnings  # We are using this library to suppress some warning messages\n",
    "warnings.filterwarnings(\"ignore\")\n",
    "\n",
    "provider = IBMQ.load_account()\n",
    "print(\"Libraries imported successfully!\")"
   ]
  },
  {
   "cell_type": "code",
   "execution_count": 7,
   "id": "8960aede-1965-4905-92ba-4ee36f22855f",
   "metadata": {},
   "outputs": [
    {
     "data": {
      "image/png": "[encoded data removed]",
      "text/plain": [
       "<Figure size 133.526x144.48 with 1 Axes>"
      ]
     },
     "execution_count": 7,
     "metadata": {},
     "output_type": "execute_result"
    }
   ],
   "source": [
    "# QKD Practice - encoding bit given User 1 has 0 bit in x basis\n",
    "qc = QuantumCircuit(1,1)\n",
    "qc.h(0)\n",
    "qc.draw()"
   ]
  },
  {
   "cell_type": "code",
   "execution_count": 8,
   "id": "955dc2ff-8215-4858-83eb-ca4f09c59483",
   "metadata": {},
   "outputs": [
    {
     "data": {
      "image/png": "[encoded data removed]",
      "text/plain": [
       "<Figure size 253.926x144.48 with 1 Axes>"
      ]
     },
     "execution_count": 8,
     "metadata": {},
     "output_type": "execute_result"
    }
   ],
   "source": [
    "# Measure in x basis given encoded bit from User 1 \n",
    "qc.h(0)\n",
    "qc.measure(0,0)\n",
    "qc.draw()"
   ]
  },
  {
   "cell_type": "code",
   "execution_count": 10,
   "id": "7cde8cc7-c6a9-4ecd-adc6-7247efefd7c2",
   "metadata": {},
   "outputs": [
    {
     "data": {
      "image/png": "[encoded data removed]",
      "text/plain": [
       "<Figure size 504x360 with 1 Axes>"
      ]
     },
     "execution_count": 10,
     "metadata": {},
     "output_type": "execute_result"
    }
   ],
   "source": [
    "# Simulating circuit using QASM \n",
    "backend = Aer.get_backend('qasm_simulator') \n",
    "job = execute(qc,backend, shots = 1)\n",
    "result = job.result()\n",
    "counts = result.get_counts()\n",
    "plot_histogram(counts)"
   ]
  },
  {
   "cell_type": "code",
   "execution_count": 13,
   "id": "1562af52-fc2e-4f05-b153-b4e8db58476f",
   "metadata": {},
   "outputs": [
    {
     "data": {
      "image/png": "[encoded data removed]",
      "text/plain": [
       "<Figure size 133.526x144.48 with 1 Axes>"
      ]
     },
     "execution_count": 13,
     "metadata": {},
     "output_type": "execute_result"
    }
   ],
   "source": [
    "# QKD Implementation Abstracted \n",
    "bit = '1\n",
    "basis = 'Z' \n",
    "\n",
    "qc = QuantumCircuit(1,1)\n",
    "\n",
    "if basis == 'Z':\n",
    "    if bit == '0':\n",
    "        pass\n",
    "    elif bit == '1':\n",
    "        qc.x(0)\n",
    "elif basis == 'X':\n",
    "    if bit == '0':\n",
    "        qc.h(0)\n",
    "    elif bit == '1':\n",
    "        qc.x(0)\n",
    "        qc.h(0)\n",
    "qc.draw()"
   ]
  },
  {
   "cell_type": "code",
   "execution_count": null,
   "id": "371da805-5d08-44c2-9b8e-24510dba4aa0",
   "metadata": {},
   "outputs": [
    {
     "data": {
      "image/png": "[encoded data removed]",
      "text/plain": [
       "<Figure size 193.726x144.48 with 1 Axes>"
      ]
     },
     "execution_count": 18,
     "metadata": {},
     "output_type": "execute_result"
    }
   ],
   "source": [
    "# Generate quantum circuits (adding gates to circuit) given random list of bits and bases\n",
    "\n",
    "test_bits = ['1','0','0','1','1'] # list of random bits \n",
    "test_bases = ['X','Z', 'X', 'X', 'Z'] # list of random bases \n",
    "qc_list = [] # List that will store the circuit for each qubit \n",
    "\n",
    "for i in range(0,5):\n",
    "    qc = QuantumCircuit(1,1)\n",
    "    if test_bases[i] == 'Z':\n",
    "        if test_bits[i] == '0':\n",
    "            pass\n",
    "        elif test_bits[i] == '1':\n",
    "            qc.x(0)\n",
    "    elif test_bases[i] == 'X':\n",
    "        if test_bits[i] == '0':\n",
    "            qc.h(0)\n",
    "        elif test_bits[i] == '1':\n",
    "            qc.x(0)\n",
    "            qc.h(0)\n",
    "    qc_list.append(qc)"
   ]
  },
  {
   "cell_type": "code",
   "execution_count": 19,
   "id": "63c31d83-6c40-481c-a319-dfba2c7b4849",
   "metadata": {},
   "outputs": [],
   "source": [
    "# Measuring qubit given list of bases\n",
    "given_bases = ['Z', 'Z', 'X', 'Z', 'X']\n",
    "\n",
    "#Insert your code starting here\n",
    "for i in range(0,5):\n",
    "    qc = qc_list[i]\n",
    "    if given_bases[i] == 'Z':\n",
    "        qc.measure(0,0)\n",
    "    elif given_bases[i] == 'X':\n",
    "        qc.h(0)\n",
    "        qc.measure(0,0)"
   ]
  }
 ],
 "metadata": {
  "kernelspec": {
   "display_name": "Qiskit v0.34.2 (ipykernel)",
   "language": "python",
   "name": "python3"
  },
  "language_info": {
   "codemirror_mode": {
    "name": "ipython",
    "version": 3
   },
   "file_extension": ".py",
   "mimetype": "text/x-python",
   "name": "python",
   "nbconvert_exporter": "python",
   "pygments_lexer": "ipython3",
   "version": "3.8.12"
  },
  "widgets": {
   "application/vnd.jupyter.widget-state+json": {
    "state": {},
    "version_major": 2,
    "version_minor": 0
   }
  }
 },
 "nbformat": 4,
 "nbformat_minor": 5
}
