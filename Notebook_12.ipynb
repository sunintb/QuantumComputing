{
 "cells": [
  {
   "cell_type": "markdown",
   "id": "accessory-kitchen",
   "metadata": {},
   "source": [
    "# Notebook 12\n",
    "# Sunint Bindra"
   ]
  },
  {
   "cell_type": "code",
   "execution_count": 1,
   "id": "matched-outdoors",
   "metadata": {},
   "outputs": [
    {
     "name": "stderr",
     "output_type": "stream",
     "text": [
      "<frozen importlib._bootstrap>:219: RuntimeWarning: scipy._lib.messagestream.MessageStream size changed, may indicate binary incompatibility. Expected 56 from C header, got 64 from PyObject\n"
     ]
    },
    {
     "name": "stdout",
     "output_type": "stream",
     "text": [
      "Libraries imported successfully!\n"
     ]
    }
   ],
   "source": [
    "# Importing standard libraries\n",
    "import numpy as np\n",
    "from qiskit import QuantumCircuit, execute, transpile, Aer, IBMQ\n",
    "from qiskit.tools.jupyter import *\n",
    "from qiskit.visualization import *\n",
    "from ibm_quantum_widgets import *\n",
    "from qiskit.quantum_info import random_unitary \n",
    "print('Libraries imported successfully!')"
   ]
  },
  {
   "cell_type": "markdown",
   "id": "latter-month",
   "metadata": {},
   "source": [
    "<a id=\"part1\"></a>\n",
    "# Superdense Coding Implementation"
   ]
  },
  {
   "cell_type": "markdown",
   "id": "1769b5a3-b0ee-4309-86d2-ba72b0b4b8c4",
   "metadata": {},
   "source": [
    "# Phase 0 - Sharing\n",
    "We have 2 users (lets call them Alice and Bob). They prepare an entangled state of two qubits, and they will then share the two qubits. This phase happens before the protocol actually begins. Remember that **entanglement is the infrastructure for superdense coding** - it needs to be in place before the protocol can be used. In this step Alice and Bob are setting up this infrastructure."
   ]
  },
  {
   "cell_type": "markdown",
   "id": "referenced-worker",
   "metadata": {},
   "source": [
    "<a id=\"part1a\"></a>\n",
    "## Step 1: Alice and Bob entangled two qubits"
   ]
  },
  {
   "cell_type": "code",
   "execution_count": 10,
   "id": "actual-julian",
   "metadata": {},
   "outputs": [
    {
     "data": {
      "image/png": "[encoded data removed]",
      "text/plain": [
       "<Figure size 206.852x204.68 with 1 Axes>"
      ]
     },
     "execution_count": 10,
     "metadata": {},
     "output_type": "execute_result"
    }
   ],
   "source": [
    "# Step 1: Two users (Alice aand Bob) entangle two qubits\n",
    "qc_sdc = QuantumCircuit(2,2)\n",
    "qc_sdc.h(0)\n",
    "qc_sdc.cx(0,1)\n",
    "qc_sdc.draw()\n"
   ]
  },
  {
   "cell_type": "markdown",
   "id": "ecf15f2a-0ddb-476b-8f1d-9e6376df1645",
   "metadata": {},
   "source": [
    "## Step 2 - Alice and Bob decide on a decision scheme\n",
    "*Conventional decision scheme for Bell States is used "
   ]
  },
  {
   "cell_type": "markdown",
   "id": "ff70719d-2f87-4da0-87fb-9d2cfd6151d0",
   "metadata": {},
   "source": [
    "## Step 3 - Alice and Bob share the two entangled qubits"
   ]
  },
  {
   "cell_type": "markdown",
   "id": "configured-mapping",
   "metadata": {},
   "source": [
    "<a id=\"part1c\"></a>\n",
    "## Step 4 - Alice applies gates to her qubit to send message"
   ]
  },
  {
   "cell_type": "code",
   "execution_count": 11,
   "id": "8c736101-4239-4400-a1d6-0907c275d37b",
   "metadata": {},
   "outputs": [
    {
     "data": {
      "image/png": "[encoded data removed]",
      "text/plain": [
       "<Figure size 327.252x204.68 with 1 Axes>"
      ]
     },
     "execution_count": 11,
     "metadata": {},
     "output_type": "execute_result"
    }
   ],
   "source": [
    "# Alex applies gate to qubit \n",
    "qc_sdc.z(0)\n",
    "qc_sdc.x(0)\n",
    "qc_sdc.draw()"
   ]
  },
  {
   "cell_type": "markdown",
   "id": "coupled-burke",
   "metadata": {},
   "source": [
    "<a id=\"part1d\"></a>\n",
    "## Step 5 - Alice sends Bob her qubit"
   ]
  },
  {
   "cell_type": "markdown",
   "id": "naughty-demand",
   "metadata": {
    "tags": []
   },
   "source": [
    "<a id=\"part1e\"></a>\n",
    "## Step 6 - Bob makes Bell measurements on the two qubits and deciphers Alice's message"
   ]
  },
  {
   "cell_type": "code",
   "execution_count": 12,
   "id": "deluxe-cookie",
   "metadata": {},
   "outputs": [
    {
     "data": {
      "image/png": "[encoded data removed]",
      "text/plain": [
       "<Figure size 447.652x204.68 with 1 Axes>"
      ]
     },
     "execution_count": 12,
     "metadata": {},
     "output_type": "execute_result"
    }
   ],
   "source": [
    "# Bell measurement\n",
    "qc_sdc.cx(0,1)\n",
    "qc_sdc.h(0)\n",
    "qc_sdc.draw()"
   ]
  },
  {
   "cell_type": "code",
   "execution_count": 13,
   "id": "42f3c96b-c4a0-4e30-8655-f598099718ff",
   "metadata": {},
   "outputs": [
    {
     "data": {
      "image/png": "[encoded data removed]",
      "text/plain": [
       "<Figure size 507.852x204.68 with 1 Axes>"
      ]
     },
     "execution_count": 13,
     "metadata": {},
     "output_type": "execute_result"
    }
   ],
   "source": [
    "# Adding measurements to circuit \n",
    "qc_sdc.measure([0,1],[0,1])\n",
    "qc_sdc.draw()"
   ]
  },
  {
   "cell_type": "code",
   "execution_count": 14,
   "id": "hazardous-single",
   "metadata": {},
   "outputs": [
    {
     "data": {
      "image/png": "[encoded data removed]",
      "text/plain": [
       "<Figure size 504x360 with 1 Axes>"
      ]
     },
     "execution_count": 14,
     "metadata": {},
     "output_type": "execute_result"
    }
   ],
   "source": [
    "# Simulating on QASM simulator and plotting histogram \n",
    "backend = Aer.get_backend('qasm_simulator')\n",
    "job = execute(qc_sdc, backend, shots=1024)\n",
    "result = job.result()\n",
    "\n",
    "counts = result.get_counts()\n",
    "plot_histogram(counts)\n"
   ]
  },
  {
   "cell_type": "markdown",
   "id": "whole-checklist",
   "metadata": {
    "tags": []
   },
   "source": [
    "## Running superdense coding circuit on quantum computer"
   ]
  },
  {
   "cell_type": "code",
   "execution_count": 15,
   "id": "driven-controversy",
   "metadata": {},
   "outputs": [
    {
     "name": "stdout",
     "output_type": "stream",
     "text": [
      "least busy backend:  ibmq_lima\n"
     ]
    }
   ],
   "source": [
    "from qiskit.providers.ibmq import least_busy\n",
    "shots = 256\n",
    "\n",
    "# Load local account information\n",
    "IBMQ.load_account()\n",
    "# Get least busy backend\n",
    "provider = IBMQ.get_provider(hub='ibm-q')\n",
    "backend = least_busy(provider.backends(filters=lambda x: x.configuration().n_qubits >= 2 \n",
    "                                       and not x.configuration().simulator \n",
    "                                       and x.status().operational==True))\n",
    "print(\"least busy backend: \", backend)"
   ]
  },
  {
   "cell_type": "code",
   "execution_count": 17,
   "id": "768d64d0-f643-464a-8236-869557875676",
   "metadata": {},
   "outputs": [],
   "source": [
    "# Run circuit\n",
    "job = execute(qc_sdc, backend=backend, shots=shots)"
   ]
  },
  {
   "cell_type": "code",
   "execution_count": 18,
   "id": "electrical-sheep",
   "metadata": {},
   "outputs": [
    {
     "name": "stdout",
     "output_type": "stream",
     "text": [
      "Job Status: job has successfully run\n"
     ]
    }
   ],
   "source": [
    "# Monitoring status of job\n",
    "from qiskit.tools.monitor import job_monitor\n",
    "job_monitor(job)\n"
   ]
  },
  {
   "cell_type": "code",
   "execution_count": 19,
   "id": "protective-adams",
   "metadata": {},
   "outputs": [
    {
     "data": {
      "image/png": "[encoded data removed]",
      "text/plain": [
       "<Figure size 504x360 with 1 Axes>"
      ]
     },
     "execution_count": 19,
     "metadata": {},
     "output_type": "execute_result"
    }
   ],
   "source": [
    "# Plotting histogram\n",
    "result = job.result()\n",
    "plot_histogram(result.get_counts())\n"
   ]
  },
  {
   "cell_type": "code",
   "execution_count": 21,
   "id": "backed-photographer",
   "metadata": {},
   "outputs": [
    {
     "name": "stdout",
     "output_type": "stream",
     "text": [
      "Accuracy = 83.59%\n"
     ]
    }
   ],
   "source": [
    "# Find accuracy of measuremeents \n",
    "correct_results = result.get_counts()['11']\n",
    "accuracy = (correct_results/shots)*100\n",
    "print(\"Accuracy = %.2f%%\" % accuracy)\n"
   ]
  }
 ],
 "metadata": {
  "kernelspec": {
   "display_name": "Qiskit v0.34.2 (ipykernel)",
   "language": "python",
   "name": "python3"
  },
  "language_info": {
   "codemirror_mode": {
    "name": "ipython",
    "version": 3
   },
   "file_extension": ".py",
   "mimetype": "text/x-python",
   "name": "python",
   "nbconvert_exporter": "python",
   "pygments_lexer": "ipython3",
   "version": "3.8.12"
  },
  "widgets": {
   "application/vnd.jupyter.widget-state+json": {
    "state": {},
    "version_major": 2,
    "version_minor": 0
   }
  }
 },
 "nbformat": 4,
 "nbformat_minor": 5
}
